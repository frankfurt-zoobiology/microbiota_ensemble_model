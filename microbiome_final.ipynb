{
 "cells": [
  {
   "cell_type": "markdown",
   "id": "3896e7b2",
   "metadata": {},
   "source": [
    "# Categorizing zoo animal species by microbiome"
   ]
  },
  {
   "cell_type": "markdown",
   "id": "8ccb1f0f",
   "metadata": {},
   "source": [
    "## 1. Setup\n",
    "### 1.1 Libraries"
   ]
  },
  {
   "cell_type": "code",
   "execution_count": 1,
   "id": "adc7b652",
   "metadata": {},
   "outputs": [],
   "source": [
    "import pandas as pd\n",
    "import numpy as np\n",
    "import altair as alt\n",
    "\n",
    "# Models\n",
    "from sklearn.tree import DecisionTreeClassifier\n",
    "from sklearn.linear_model import LogisticRegression\n",
    "#from sklearn.ensemble import VotingClassifier\n",
    "\n",
    "from sklearn.model_selection import train_test_split\n",
    "from sklearn.metrics import accuracy_score\n",
    "from sklearn.model_selection import GridSearchCV\n",
    "from sklearn.metrics import classification_report\n",
    "from sklearn.metrics import confusion_matrix\n",
    "\n",
    "# Turn only off for presentation purposes\n",
    "import warnings\n",
    "warnings.filterwarnings(\"ignore\")"
   ]
  },
  {
   "cell_type": "markdown",
   "id": "24fdb337",
   "metadata": {},
   "source": [
    "### 1.2 Data import\n",
    "Data has been preprocessed in R. We removed all animal species with less than 20 probes."
   ]
  },
  {
   "cell_type": "code",
   "execution_count": 2,
   "id": "372916e1",
   "metadata": {},
   "outputs": [],
   "source": [
    "# Read data \n",
    "df = pd.read_csv('data/data_clean.csv')\n",
    "metadata = df.iloc[:,:9].drop_duplicates().sort_values(['Familie','Gattung','Art']).reset_index(drop=True)\n",
    "metadata_familie = metadata[['Familie','Diet','digestion']].drop_duplicates().reset_index(drop=True)\n",
    "metadata_gattung = metadata[['Gattung','Diet','digestion']].drop_duplicates().reset_index(drop=True)\n",
    "# Identifying zoo and individuals from index name\n",
    "df.insert(0, 'Zoo', df['index'].str[:3])\n",
    "df.insert(1, 'AnimalID', df['index'].str[7:])"
   ]
  },
  {
   "cell_type": "markdown",
   "id": "aee3da15",
   "metadata": {},
   "source": [
    "### 1.3 Function library"
   ]
  },
  {
   "cell_type": "code",
   "execution_count": 3,
   "id": "8e22e5e5",
   "metadata": {},
   "outputs": [],
   "source": [
    "def train_dev_test_split(df, y_name=\"\", test_size=0.2, random_state=42):\n",
    "    if y_name != \"\":\n",
    "        # Check if stratification is possible\n",
    "        can_stratify = df[y_name].value_counts().min() > 1\n",
    "        \n",
    "        # If stratification is possible, use it\n",
    "        if can_stratify:\n",
    "            train, test = train_test_split(\n",
    "                df, test_size=test_size/(1-test_size), \n",
    "                random_state=random_state, stratify=df[y_name]\n",
    "            )\n",
    "        # If not, do a simple split without stratification\n",
    "        else:\n",
    "            train, test = train_test_split(\n",
    "                df, test_size=test_size/(1-test_size), \n",
    "                random_state=random_state\n",
    "            )\n",
    "        \n",
    "        # Define input and output variables\n",
    "        X_train = train.iloc[:,12:]\n",
    "        if y_name != 'Art':\n",
    "            X_train = X_train.drop([y_name], axis=1)\n",
    "        y_train = train[y_name]\n",
    "\n",
    "        X_test = test.iloc[:,12:]\n",
    "        if y_name != 'Art':\n",
    "            X_test = X_test.drop([y_name], axis=1)\n",
    "        y_test = test[y_name]\n",
    "        \n",
    "        return X_train, y_train, X_test, y_test\n",
    "    \n",
    "    else:\n",
    "        # Check if stratification is possible\n",
    "        can_stratify = df['Art'].value_counts().min() > 1\n",
    "        \n",
    "        # If stratification is possible, use it\n",
    "        if can_stratify:\n",
    "            train, test = train_test_split(\n",
    "                df, test_size=test_size, \n",
    "                random_state=random_state, stratify=df['Art']\n",
    "            )\n",
    "        # If not, do a simple split without stratification\n",
    "        else:\n",
    "            train, test = train_test_split(\n",
    "                df, test_size=test_size, \n",
    "                random_state=random_state\n",
    "            )\n",
    "        \n",
    "        return train, test\n",
    "\n",
    "# One-hot encoded data\n",
    "def one_hot_encoding(df, Art):\n",
    "    # One-hot encoding of column\n",
    "    df_Art = pd.get_dummies(df.Art)\n",
    "    # Join with dummy data\n",
    "    df_tmp = df.iloc[:,:-1].join(df_Art[Art])\n",
    "    # Split data\n",
    "    X_train, y_train, X_dev, y_dev, X_test, y_test = train_dev_test_split(df_tmp, Art)\n",
    "    return X_train, y_train, X_dev, y_dev, X_test, y_test\n",
    "\n",
    "# Find best parameters using GridSearchCV for logistic regression\n",
    "def lr_best_model(X_train, y_train):\n",
    "    # Define multiple hyperparameter grids to search over\n",
    "    param_grids = [\n",
    "        {\n",
    "            'penalty': ['l1', 'l2'],  # l1 and l2 penalties\n",
    "            'C': [0.01, 0.1, 1.0, 10.0, 100.0],\n",
    "            'solver': ['liblinear'],  # liblinear supports l1 and l2\n",
    "            'max_iter': [100, 500, 1000],\n",
    "        },\n",
    "        {\n",
    "            'penalty': ['l2', 'none'],  # l2 and none penalties\n",
    "            'C': [0.01, 0.1, 1.0, 10.0, 100.0],\n",
    "            'solver': ['newton-cg', 'lbfgs', 'sag'],  # these solvers support l2 and none\n",
    "            'max_iter': [100, 500, 1000],\n",
    "        },\n",
    "        {\n",
    "            'penalty': ['l1', 'l2', 'none'],  # l1, l2 and none penalties\n",
    "            'C': [0.01, 0.1, 1.0, 10.0, 100.0],\n",
    "            'solver': ['saga'],  # saga supports l1, l2, and none\n",
    "            'max_iter': [100, 500, 1000],\n",
    "        }\n",
    "    ]\n",
    "\n",
    "    # Create a logistic regression model\n",
    "    lr = LogisticRegression(random_state=42)\n",
    "\n",
    "    # Perform grid search over the hyperparameter grids using 5-fold cross-validation\n",
    "    grid_search = GridSearchCV(estimator=lr,\n",
    "                               param_grid=param_grids,\n",
    "                               cv=5,\n",
    "                               n_jobs=-1)\n",
    "\n",
    "    # Fit the grid search to the training data\n",
    "    grid_search.fit(X_train, y_train)\n",
    "\n",
    "    # Print the best parameters and best score\n",
    "    print(f\"Best parameters: {grid_search.best_params_}\")\n",
    "    print(f\"Best score: {grid_search.best_score_}\")\n",
    "    \n",
    "    return grid_search.best_params_\n",
    "\n",
    "def train_best_model(X_train, y_train, params):\n",
    "    # Create a new logistic regression model with the best hyperparameters\n",
    "    best_lr = LogisticRegression(**params, random_state=42)\n",
    "\n",
    "    # Fit the new model to the training data\n",
    "    best_lr.fit(X_train, y_train)\n",
    "    \n",
    "    return best_lr\n",
    "\n",
    "def evaluate_model(best_lr, X_dev, y_dev):\n",
    "    # Evaluate the performance of the new model on the test data\n",
    "    score = best_lr.score(X_dev, y_dev)\n",
    "    print(f\"Test score: {score}\")\n",
    "\n",
    "    # Print the results\n",
    "    y_pred = best_lr.predict(X_dev)\n",
    "    print(classification_report(y_dev, y_pred))\n",
    "\n",
    "    # Create the confusion matrix\n",
    "    cm = confusion_matrix(y_dev, y_pred)\n",
    "\n",
    "    # Print the confusion matrix\n",
    "    print(\"Confusion Matrix:\\n\", cm)\n",
    "    \n",
    "def best_lr(df, Art):\n",
    "    # One-hot encoding\n",
    "    X_train, y_train, X_dev, y_dev, X_test, y_test = one_hot_encoding(df, Art)\n",
    "    # Best params\n",
    "    params = lr_best_model(X_train, y_train)\n",
    "    # Best model\n",
    "    best_lr = train_best_model(X_train, y_train, params)\n",
    "    # Evaluate model\n",
    "    evaluate_model(best_lr, X_dev, y_dev)\n",
    "    \n",
    "    return best_lr\n",
    "\n",
    "# Trains logistic regression based on specific attribute\n",
    "def categorize_attribute(df, column, attribute):\n",
    "    # Get dummies\n",
    "    df_attribute = pd.get_dummies(df[column])\n",
    "    # Join with dummy data\n",
    "    df_tmp = df.join(df_attribute[attribute])\n",
    "    # Split data\n",
    "    X_train, y_train, X_dev, y_dev = train_dev_test_split(df_tmp, attribute)\n",
    "    # Best params\n",
    "    params = lr_best_model(X_train, y_train)\n",
    "    # Best model\n",
    "    lr = train_best_model(X_train, y_train, params)\n",
    "    # Evaluate model\n",
    "    evaluate_model(lr, X_dev, y_dev)\n",
    "    \n",
    "    return lr"
   ]
  },
  {
   "cell_type": "markdown",
   "id": "15684cdf",
   "metadata": {},
   "source": [
    "## 2. Modelling - Logistic Regression\n",
    "### 2.1 Preparing training and development sets\n",
    "We split the dataset into training & development and test sets and put the test set aside."
   ]
  },
  {
   "cell_type": "code",
   "execution_count": 4,
   "id": "8626f621",
   "metadata": {},
   "outputs": [],
   "source": [
    "df_train_dev, df_test = train_dev_test_split(df.iloc[:,:-1])"
   ]
  },
  {
   "cell_type": "markdown",
   "id": "5a6a4d03",
   "metadata": {},
   "source": [
    "### 2.2 Classification of Diet\n",
    "#### 2.2.1 Herbivores"
   ]
  },
  {
   "cell_type": "code",
   "execution_count": 5,
   "id": "da7d43ab",
   "metadata": {},
   "outputs": [
    {
     "name": "stdout",
     "output_type": "stream",
     "text": [
      "Best parameters: {'C': 1.0, 'max_iter': 1000, 'penalty': 'l1', 'solver': 'saga'}\n",
      "Best score: 0.9746031746031747\n",
      "Test score: 0.9809523809523809\n",
      "              precision    recall  f1-score   support\n",
      "\n",
      "       False       0.98      0.98      0.98        57\n",
      "        True       0.98      0.98      0.98        48\n",
      "\n",
      "    accuracy                           0.98       105\n",
      "   macro avg       0.98      0.98      0.98       105\n",
      "weighted avg       0.98      0.98      0.98       105\n",
      "\n",
      "Confusion Matrix:\n",
      " [[56  1]\n",
      " [ 1 47]]\n"
     ]
    }
   ],
   "source": [
    "lr_herbivore = categorize_attribute(df_train_dev, 'Diet', 'herbivor')"
   ]
  },
  {
   "cell_type": "markdown",
   "id": "52175c96",
   "metadata": {},
   "source": [
    "#### 2.2.2 Carnivores"
   ]
  },
  {
   "cell_type": "code",
   "execution_count": 6,
   "id": "281268d3",
   "metadata": {},
   "outputs": [
    {
     "name": "stdout",
     "output_type": "stream",
     "text": [
      "Best parameters: {'C': 1.0, 'max_iter': 500, 'penalty': 'l1', 'solver': 'saga'}\n",
      "Best score: 0.9523809523809523\n",
      "Test score: 0.9619047619047619\n",
      "              precision    recall  f1-score   support\n",
      "\n",
      "       False       0.95      0.98      0.97        60\n",
      "        True       0.98      0.93      0.95        45\n",
      "\n",
      "    accuracy                           0.96       105\n",
      "   macro avg       0.96      0.96      0.96       105\n",
      "weighted avg       0.96      0.96      0.96       105\n",
      "\n",
      "Confusion Matrix:\n",
      " [[59  1]\n",
      " [ 3 42]]\n"
     ]
    }
   ],
   "source": [
    "lr_carnivore = categorize_attribute(df_train_dev, 'Diet', 'carnivor')"
   ]
  },
  {
   "cell_type": "markdown",
   "id": "3d5c8154",
   "metadata": {},
   "source": [
    "#### 2.2.3 Omnivores"
   ]
  },
  {
   "cell_type": "code",
   "execution_count": 7,
   "id": "2a6c535c",
   "metadata": {},
   "outputs": [
    {
     "name": "stdout",
     "output_type": "stream",
     "text": [
      "Best parameters: {'C': 0.01, 'max_iter': 100, 'penalty': 'none', 'solver': 'saga'}\n",
      "Best score: 0.9587301587301587\n",
      "Test score: 0.9428571428571428\n",
      "              precision    recall  f1-score   support\n",
      "\n",
      "       False       0.98      0.96      0.97        93\n",
      "        True       0.71      0.83      0.77        12\n",
      "\n",
      "    accuracy                           0.94       105\n",
      "   macro avg       0.85      0.90      0.87       105\n",
      "weighted avg       0.95      0.94      0.94       105\n",
      "\n",
      "Confusion Matrix:\n",
      " [[89  4]\n",
      " [ 2 10]]\n"
     ]
    }
   ],
   "source": [
    "lr_omnivore = categorize_attribute(df_train_dev, 'Diet', 'omnivor')"
   ]
  },
  {
   "cell_type": "markdown",
   "id": "155acddb",
   "metadata": {},
   "source": [
    "### 2.3 Classification of family given non-herbivores"
   ]
  },
  {
   "cell_type": "code",
   "execution_count": 8,
   "id": "5cff4bf4",
   "metadata": {},
   "outputs": [],
   "source": [
    "# Filter df for non-herbivores\n",
    "df_train_dev_nh = df_train_dev[df_train_dev.Diet != 'herbivor']"
   ]
  },
  {
   "cell_type": "markdown",
   "id": "d09789f6",
   "metadata": {},
   "source": [
    "#### 2.3.1 Canidae"
   ]
  },
  {
   "cell_type": "code",
   "execution_count": 9,
   "id": "5183c605",
   "metadata": {
    "scrolled": false
   },
   "outputs": [
    {
     "name": "stdout",
     "output_type": "stream",
     "text": [
      "Best parameters: {'C': 0.01, 'max_iter': 1000, 'penalty': 'none', 'solver': 'sag'}\n",
      "Best score: 0.8835294117647059\n",
      "Test score: 0.8620689655172413\n",
      "              precision    recall  f1-score   support\n",
      "\n",
      "       False       0.95      0.86      0.90        44\n",
      "        True       0.67      0.86      0.75        14\n",
      "\n",
      "    accuracy                           0.86        58\n",
      "   macro avg       0.81      0.86      0.83        58\n",
      "weighted avg       0.88      0.86      0.87        58\n",
      "\n",
      "Confusion Matrix:\n",
      " [[38  6]\n",
      " [ 2 12]]\n"
     ]
    }
   ],
   "source": [
    "lr_canidae = categorize_attribute(df_train_dev_nh, 'Familie', 'Canidae')"
   ]
  },
  {
   "cell_type": "markdown",
   "id": "2fc5097f",
   "metadata": {},
   "source": [
    "#### 2.3.2 Felidae"
   ]
  },
  {
   "cell_type": "code",
   "execution_count": 10,
   "id": "fa9f0a32",
   "metadata": {},
   "outputs": [
    {
     "name": "stdout",
     "output_type": "stream",
     "text": [
      "Best parameters: {'C': 0.01, 'max_iter': 500, 'penalty': 'none', 'solver': 'sag'}\n",
      "Best score: 0.8662184873949581\n",
      "Test score: 0.8793103448275862\n",
      "              precision    recall  f1-score   support\n",
      "\n",
      "       False       0.87      0.90      0.89        30\n",
      "        True       0.89      0.86      0.87        28\n",
      "\n",
      "    accuracy                           0.88        58\n",
      "   macro avg       0.88      0.88      0.88        58\n",
      "weighted avg       0.88      0.88      0.88        58\n",
      "\n",
      "Confusion Matrix:\n",
      " [[27  3]\n",
      " [ 4 24]]\n"
     ]
    }
   ],
   "source": [
    "lr_felidae = categorize_attribute(df_train_dev_nh, 'Familie', 'Felidae')"
   ]
  },
  {
   "cell_type": "markdown",
   "id": "9e1abf9f",
   "metadata": {},
   "source": [
    "#### 2.3.3 Herpestidae"
   ]
  },
  {
   "cell_type": "code",
   "execution_count": 11,
   "id": "41ae9b57",
   "metadata": {},
   "outputs": [
    {
     "name": "stdout",
     "output_type": "stream",
     "text": [
      "Best parameters: {'C': 0.01, 'max_iter': 100, 'penalty': 'l2', 'solver': 'newton-cg'}\n",
      "Best score: 0.9420168067226891\n",
      "Test score: 0.9310344827586207\n",
      "              precision    recall  f1-score   support\n",
      "\n",
      "       False       0.93      1.00      0.96        54\n",
      "        True       0.00      0.00      0.00         4\n",
      "\n",
      "    accuracy                           0.93        58\n",
      "   macro avg       0.47      0.50      0.48        58\n",
      "weighted avg       0.87      0.93      0.90        58\n",
      "\n",
      "Confusion Matrix:\n",
      " [[54  0]\n",
      " [ 4  0]]\n"
     ]
    }
   ],
   "source": [
    "lr_herpestidae = categorize_attribute(df_train_dev_nh, 'Familie', 'Herpestidae')"
   ]
  },
  {
   "cell_type": "markdown",
   "id": "17108d38",
   "metadata": {},
   "source": [
    "#### 2.3.4 Ursidae"
   ]
  },
  {
   "cell_type": "code",
   "execution_count": 12,
   "id": "27a7c4f2",
   "metadata": {},
   "outputs": [
    {
     "name": "stdout",
     "output_type": "stream",
     "text": [
      "Best parameters: {'C': 0.1, 'max_iter': 100, 'penalty': 'l2', 'solver': 'lbfgs'}\n",
      "Best score: 0.9475630252100841\n",
      "Test score: 0.9137931034482759\n",
      "              precision    recall  f1-score   support\n",
      "\n",
      "       False       0.93      0.96      0.95        45\n",
      "        True       0.83      0.77      0.80        13\n",
      "\n",
      "    accuracy                           0.91        58\n",
      "   macro avg       0.88      0.86      0.87        58\n",
      "weighted avg       0.91      0.91      0.91        58\n",
      "\n",
      "Confusion Matrix:\n",
      " [[43  2]\n",
      " [ 3 10]]\n"
     ]
    }
   ],
   "source": [
    "lr_ursidae = categorize_attribute(df_train_dev_nh, 'Familie', 'Ursidae')"
   ]
  },
  {
   "cell_type": "markdown",
   "id": "c9833ae6",
   "metadata": {},
   "source": [
    "### 3.3 Classification by digestion for herbivores"
   ]
  },
  {
   "cell_type": "code",
   "execution_count": 13,
   "id": "656bfff3",
   "metadata": {},
   "outputs": [],
   "source": [
    "# Filter train dev dataset for herbivores only\n",
    "df_herbivore = df_train_dev[df_train_dev.Diet == 'herbivor']"
   ]
  },
  {
   "cell_type": "markdown",
   "id": "f1c2cd27",
   "metadata": {},
   "source": [
    "#### 3.3.1 Classification by digestion for herbivores - Foregut ruminant"
   ]
  },
  {
   "cell_type": "code",
   "execution_count": 14,
   "id": "30fa892b",
   "metadata": {},
   "outputs": [
    {
     "name": "stdout",
     "output_type": "stream",
     "text": [
      "Best parameters: {'C': 1.0, 'max_iter': 100, 'penalty': 'l1', 'solver': 'liblinear'}\n",
      "Best score: 0.9928571428571429\n",
      "Test score: 0.9583333333333334\n",
      "              precision    recall  f1-score   support\n",
      "\n",
      "       False       0.92      1.00      0.96        23\n",
      "        True       1.00      0.92      0.96        25\n",
      "\n",
      "    accuracy                           0.96        48\n",
      "   macro avg       0.96      0.96      0.96        48\n",
      "weighted avg       0.96      0.96      0.96        48\n",
      "\n",
      "Confusion Matrix:\n",
      " [[23  0]\n",
      " [ 2 23]]\n"
     ]
    }
   ],
   "source": [
    "lr_foregut_r = categorize_attribute(df_herbivore, 'digestion', 'foregut_ruminant')"
   ]
  },
  {
   "cell_type": "markdown",
   "id": "eba02f9d",
   "metadata": {},
   "source": [
    "#### 3.3.2 Classification by digestion for herbivores - Hindgut colon"
   ]
  },
  {
   "cell_type": "code",
   "execution_count": 15,
   "id": "15fa9c08",
   "metadata": {},
   "outputs": [
    {
     "name": "stdout",
     "output_type": "stream",
     "text": [
      "Best parameters: {'C': 0.01, 'max_iter': 100, 'penalty': 'l2', 'solver': 'liblinear'}\n",
      "Best score: 0.9859605911330049\n",
      "Test score: 1.0\n",
      "              precision    recall  f1-score   support\n",
      "\n",
      "       False       1.00      1.00      1.00        31\n",
      "        True       1.00      1.00      1.00        17\n",
      "\n",
      "    accuracy                           1.00        48\n",
      "   macro avg       1.00      1.00      1.00        48\n",
      "weighted avg       1.00      1.00      1.00        48\n",
      "\n",
      "Confusion Matrix:\n",
      " [[31  0]\n",
      " [ 0 17]]\n"
     ]
    }
   ],
   "source": [
    "lr_hindgut_co = categorize_attribute(df_herbivore, 'digestion', 'hindgut_colon')"
   ]
  },
  {
   "cell_type": "markdown",
   "id": "2388182d",
   "metadata": {},
   "source": [
    "#### 3.3.3 Classification by digestion for herbivores -  Simple"
   ]
  },
  {
   "cell_type": "code",
   "execution_count": 16,
   "id": "8cbcac48",
   "metadata": {},
   "outputs": [
    {
     "name": "stdout",
     "output_type": "stream",
     "text": [
      "Best parameters: {'C': 0.01, 'max_iter': 100, 'penalty': 'l2', 'solver': 'liblinear'}\n",
      "Best score: 1.0\n",
      "Test score: 0.9791666666666666\n",
      "              precision    recall  f1-score   support\n",
      "\n",
      "       False       0.98      1.00      0.99        42\n",
      "        True       1.00      0.83      0.91         6\n",
      "\n",
      "    accuracy                           0.98        48\n",
      "   macro avg       0.99      0.92      0.95        48\n",
      "weighted avg       0.98      0.98      0.98        48\n",
      "\n",
      "Confusion Matrix:\n",
      " [[42  0]\n",
      " [ 1  5]]\n"
     ]
    }
   ],
   "source": [
    "lr_simple = categorize_attribute(df_herbivore, 'digestion', 'simple')"
   ]
  },
  {
   "cell_type": "markdown",
   "id": "718cf6cd",
   "metadata": {},
   "source": [
    "### 3.5 Ensemble model"
   ]
  },
  {
   "cell_type": "code",
   "execution_count": 17,
   "id": "ae7228c8",
   "metadata": {},
   "outputs": [],
   "source": [
    "def categorize_microbiome(microbiome):\n",
    "    results = []\n",
    "\n",
    "    # Diet categorization probabilities\n",
    "    herbivore_prob = lr_herbivore.predict_proba(microbiome)[:, 1]\n",
    "    carnivore_prob = lr_carnivore.predict_proba(microbiome)[:, 1]\n",
    "    omnivore_prob = lr_omnivore.predict_proba(microbiome)[:, 1]\n",
    "\n",
    "    for idx, (h_prob, c_prob, o_prob) in enumerate(zip(herbivore_prob, carnivore_prob, omnivore_prob)):\n",
    "        # Categorize diet\n",
    "        max_diet_prob = max(h_prob, c_prob, o_prob)\n",
    "        if max_diet_prob == h_prob:\n",
    "            diet = \"herbivor\"\n",
    "            sample = microbiome.iloc[idx].to_numpy().reshape(1, -1)\n",
    "            foregut_r_prob = lr_foregut_r.predict_proba(sample)[0][1]\n",
    "            hindgut_co_prob = lr_hindgut_co.predict_proba(sample)[0][1]\n",
    "            simple_prob = lr_simple.predict_proba(sample)[0][1]\n",
    "\n",
    "            digestion_prob = {\n",
    "                \"foregut_ruminant\": foregut_r_prob,\n",
    "                \"hindgut_colon\": hindgut_co_prob,\n",
    "                \"simple\": simple_prob\n",
    "            }\n",
    "            digestion = max(digestion_prob, key=digestion_prob.get)\n",
    "            familie = None\n",
    "        else:\n",
    "            diet = \"carnivor\" if max_diet_prob == c_prob else \"omnivor\"\n",
    "            digestion = \"simple\"\n",
    "\n",
    "            # Determine 'Familie' based on model probabilities\n",
    "            sample = microbiome.iloc[idx].to_numpy().reshape(1, -1)\n",
    "            canidae_prob = lr_canidae.predict_proba(sample)[0][1]\n",
    "            felidae_prob = lr_felidae.predict_proba(sample)[0][1]\n",
    "            herpestidae_prob = lr_herpestidae.predict_proba(sample)[0][1]\n",
    "            ursidae_prob = lr_ursidae.predict_proba(sample)[0][1]\n",
    "\n",
    "            familie_prob = {\n",
    "                \"Canidae\": canidae_prob,\n",
    "                \"Felidae\": felidae_prob,\n",
    "                \"Herpestidae\": herpestidae_prob,\n",
    "                \"Ursidae\": ursidae_prob,\n",
    "                \"Undefined\": 0.00000001\n",
    "            }\n",
    "            familie = max(familie_prob, key=familie_prob.get)\n",
    "\n",
    "        # Append the result with the original index\n",
    "        results.append([microbiome.index[idx], diet, digestion, familie])\n",
    "\n",
    "    # Create a DataFrame from the results\n",
    "    categorized_df = pd.DataFrame(results, columns=['Index', 'Diet_p', 'digestion_p', 'Familie_p'])\n",
    "    categorized_df.set_index('Index', inplace=True)\n",
    "\n",
    "    return categorized_df\n"
   ]
  },
  {
   "cell_type": "markdown",
   "id": "71e20cdb",
   "metadata": {},
   "source": [
    "### 3.6 Testing"
   ]
  },
  {
   "cell_type": "code",
   "execution_count": 18,
   "id": "258f2d0b",
   "metadata": {},
   "outputs": [],
   "source": [
    "pred = categorize_microbiome(df_test.iloc[:,12:])\n",
    "results_test = pred.join(df_test, how='left')\n",
    "results_test['Familie_p'] = results_test['Familie_p'].fillna('Unknown') # To handle incorrectly identified herbivores"
   ]
  },
  {
   "cell_type": "code",
   "execution_count": 19,
   "id": "8caa06b6",
   "metadata": {},
   "outputs": [
    {
     "name": "stdout",
     "output_type": "stream",
     "text": [
      "Classification report on Diet\n",
      "              precision    recall  f1-score   support\n",
      "\n",
      "    carnivor       0.90      0.84      0.87        45\n",
      "    herbivor       0.94      0.92      0.93        48\n",
      "     omnivor       0.62      0.83      0.71        12\n",
      "\n",
      "    accuracy                           0.88       105\n",
      "   macro avg       0.82      0.86      0.84       105\n",
      "weighted avg       0.89      0.88      0.88       105\n",
      "\n",
      "[[38  3  4]\n",
      " [ 2 44  2]\n",
      " [ 2  0 10]]\n"
     ]
    }
   ],
   "source": [
    "print('Classification report on Diet')\n",
    "print(classification_report(results_test.Diet, results_test.Diet_p))\n",
    "print(confusion_matrix(results_test.Diet, results_test.Diet_p))"
   ]
  },
  {
   "cell_type": "code",
   "execution_count": 20,
   "id": "a450e669",
   "metadata": {},
   "outputs": [
    {
     "name": "stdout",
     "output_type": "stream",
     "text": [
      "Classification report on Digestion for Herbivores\n",
      "                  precision    recall  f1-score   support\n",
      "\n",
      "foregut_ruminant       1.00      0.96      0.98        25\n",
      "   hindgut_colon       1.00      1.00      1.00        17\n",
      "          simple       0.86      1.00      0.92         6\n",
      "\n",
      "        accuracy                           0.98        48\n",
      "       macro avg       0.95      0.99      0.97        48\n",
      "    weighted avg       0.98      0.98      0.98        48\n",
      "\n",
      "[[24  0  1]\n",
      " [ 0 17  0]\n",
      " [ 0  0  6]]\n"
     ]
    }
   ],
   "source": [
    "print('Classification report on Digestion for Herbivores')\n",
    "print(classification_report(results_test[results_test.Diet == 'herbivor'].digestion,\n",
    "                            results_test[results_test.Diet == 'herbivor'].digestion_p))\n",
    "print(confusion_matrix(results_test[results_test.Diet == 'herbivor'].digestion,\n",
    "                            results_test[results_test.Diet == 'herbivor'].digestion_p))"
   ]
  },
  {
   "cell_type": "code",
   "execution_count": 21,
   "id": "94ff3987",
   "metadata": {},
   "outputs": [
    {
     "name": "stdout",
     "output_type": "stream",
     "text": [
      "Classification report on Family for Carnivores and Omnivores\n",
      "              precision    recall  f1-score   support\n",
      "\n",
      "     Canidae       0.88      1.00      0.93        14\n",
      "     Felidae       0.91      0.74      0.82        27\n",
      " Herpestidae       0.00      0.00      0.00         4\n",
      "     Unknown       0.00      0.00      0.00         0\n",
      "     Ursidae       0.69      0.92      0.79        12\n",
      "\n",
      "    accuracy                           0.79        57\n",
      "   macro avg       0.49      0.53      0.51        57\n",
      "weighted avg       0.79      0.79      0.78        57\n",
      "\n",
      "[[14  0  0  0  0]\n",
      " [ 1 20  0  2  4]\n",
      " [ 1  1  0  1  1]\n",
      " [ 0  0  0  0  0]\n",
      " [ 0  1  0  0 11]]\n"
     ]
    }
   ],
   "source": [
    "print('Classification report on Family for Carnivores and Omnivores')\n",
    "print(classification_report(results_test[results_test.Diet != 'herbivor'].Familie,\n",
    "                            results_test[results_test.Diet != 'herbivor'].Familie_p))\n",
    "print(confusion_matrix(results_test[results_test.Diet != 'herbivor'].Familie,\n",
    "                            results_test[results_test.Diet != 'herbivor'].Familie_p))"
   ]
  }
 ],
 "metadata": {
  "kernelspec": {
   "display_name": "Python 3 (ipykernel)",
   "language": "python",
   "name": "python3"
  },
  "language_info": {
   "codemirror_mode": {
    "name": "ipython",
    "version": 3
   },
   "file_extension": ".py",
   "mimetype": "text/x-python",
   "name": "python",
   "nbconvert_exporter": "python",
   "pygments_lexer": "ipython3",
   "version": "3.11.5"
  }
 },
 "nbformat": 4,
 "nbformat_minor": 5
}
